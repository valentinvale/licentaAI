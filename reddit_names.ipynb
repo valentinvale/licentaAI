{
 "cells": [
  {
   "cell_type": "code",
   "execution_count": 1,
   "metadata": {},
   "outputs": [
    {
     "name": "stdout",
     "output_type": "stream",
     "text": [
      "Collecting praw\n",
      "  Using cached praw-7.7.1-py3-none-any.whl.metadata (9.8 kB)\n",
      "Collecting prawcore<3,>=2.1 (from praw)\n",
      "  Using cached prawcore-2.4.0-py3-none-any.whl.metadata (5.0 kB)\n",
      "Collecting update-checker>=0.18 (from praw)\n",
      "  Downloading update_checker-0.18.0-py3-none-any.whl.metadata (2.3 kB)\n",
      "Collecting websocket-client>=0.54.0 (from praw)\n",
      "  Using cached websocket_client-1.7.0-py3-none-any.whl.metadata (7.9 kB)\n",
      "Requirement already satisfied: requests<3.0,>=2.6.0 in c:\\users\\rog\\appdata\\roaming\\python\\python310\\site-packages (from prawcore<3,>=2.1->praw) (2.31.0)\n",
      "Requirement already satisfied: charset-normalizer<4,>=2 in c:\\users\\rog\\appdata\\roaming\\python\\python310\\site-packages (from requests<3.0,>=2.6.0->prawcore<3,>=2.1->praw) (3.3.2)\n",
      "Requirement already satisfied: idna<4,>=2.5 in c:\\users\\rog\\appdata\\roaming\\python\\python310\\site-packages (from requests<3.0,>=2.6.0->prawcore<3,>=2.1->praw) (3.4)\n",
      "Requirement already satisfied: urllib3<3,>=1.21.1 in c:\\users\\rog\\anaconda3\\envs\\licenta\\lib\\site-packages (from requests<3.0,>=2.6.0->prawcore<3,>=2.1->praw) (2.1.0)\n",
      "Requirement already satisfied: certifi>=2017.4.17 in c:\\users\\rog\\appdata\\roaming\\python\\python310\\site-packages (from requests<3.0,>=2.6.0->prawcore<3,>=2.1->praw) (2023.11.17)\n",
      "Using cached praw-7.7.1-py3-none-any.whl (191 kB)\n",
      "Using cached prawcore-2.4.0-py3-none-any.whl (17 kB)\n",
      "Using cached update_checker-0.18.0-py3-none-any.whl (7.0 kB)\n",
      "Using cached websocket_client-1.7.0-py3-none-any.whl (58 kB)\n",
      "Installing collected packages: websocket-client, update-checker, prawcore, praw\n",
      "Successfully installed praw-7.7.1 prawcore-2.4.0 update-checker-0.18.0 websocket-client-1.7.0\n"
     ]
    }
   ],
   "source": [
    "!pip install praw"
   ]
  },
  {
   "cell_type": "code",
   "execution_count": 1,
   "metadata": {},
   "outputs": [],
   "source": [
    "import praw\n",
    "\n",
    "reddit = praw.Reddit(\n",
    "    \n",
    ")\n"
   ]
  },
  {
   "cell_type": "code",
   "execution_count": 2,
   "metadata": {},
   "outputs": [],
   "source": [
    "subreddit = reddit.subreddit('aww')"
   ]
  },
  {
   "cell_type": "code",
   "execution_count": 13,
   "metadata": {},
   "outputs": [],
   "source": [
    "submissions = subreddit.search('white', sort='new', time_filter='year', limit=100)"
   ]
  },
  {
   "cell_type": "code",
   "execution_count": 14,
   "metadata": {},
   "outputs": [
    {
     "name": "stdout",
     "output_type": "stream",
     "text": [
      "Sébastien (black and white) and Simon slowly getting socialized at our shelter.\n",
      "This is my Dog, Her name is Luna! She is not old but is a white Dashund! I also crated some art about her!\n",
      "this is one of my friends white Maltese I really want a small dog too\n",
      "As white and beautiful as snow\n",
      "White stray kitten in Khabarovsk\n",
      "I believe that stray dogs in the streets are among the cutest animals and have a white heart.\n",
      "White and fluffy extra large plush toy\n",
      "My cats. Oni (black n white) and whiskey (orange)\n",
      "A white red squirrel. It's leucistic, not albino.\n",
      "Neighbor’s white cat realizes there’s a no-line bathroom in addition to yummy barbecue in my backyard\n",
      "Neighbor’s white cat comes over when I’m barbecuing\n",
      "White cat with Orange Cat energy \n",
      "He’s is in charge now\n",
      "My cat's(grey/white) friend(orange) is visiting today\n",
      "My white golden babies!\n",
      "She seems happy about the white husband we picked for her\n",
      "Pretty Princess Penny blue eyes white kitten\n",
      "Who says cats cant be adoptive dads? Shes is not his kitten by blood but he has taken her on as his own. She will be 11 months next week (brown and white) he is 4 1/2 (blue and white)\n",
      "Mocha (brown/white) and Maisie (black/white) then and now\n",
      "The way the white on his tail lines up with the line on his face.\n",
      "My White Kitty says Hello! (Her name is actually White Kitty!)\n",
      "Maddie got into the drinks 🤓\n",
      "Love these different personalities! Tom is all sophisticated, relaxing... Next you have Okie wanting to better introduce himself to Jerry (black and white), our rescue! LOL\n",
      "It don't matter if you're black or white\n",
      "My cat fell asleep in a Chipotle bag 😭😭\n",
      "Belvedere is fond of Stoicism\n",
      "She’s getting so old with her white fur\n",
      "Snow white ❄️\n",
      "This is the white cat my other cats use as a pillow. Her name is Fisk Sticks\n",
      "my white cat\n",
      "Whenever they sleep they always use the white cat as a pillow. Every time\n",
      "White winged dove gets excited when his momma talks to him.\n",
      "Princess Penny The White\n",
      "The white one is a 6mo old baby. A very very big baby. \n",
      "Oliver is trying really hard to figure out this white stuff\n",
      "My uncle’s super cute Swiss white Schäferhund\n",
      "Happy birthday, Bender (Gray) & happy gotcha day, Fry (white)!\n",
      "Her little white beard and nose freckles ❤️❤️❤️\n",
      "What adorable white bear, isn't he?\n",
      "Scroll for my gang. Grizzley (white) Charlotte (other fluffy) Lucky (black)\n",
      "My cousin's black and white Persian kitten\n",
      "A White Xmas...\n",
      "White kitty cat loves bricks\n",
      "I think i have a problem. I think my boy(blue and white) wants to keep the foster kitten. What should i do?\n",
      "Luna's new throne of judgement.\n",
      "my new Whites Tree Frog keeps changing colors\n",
      "Poodle? Where?\n",
      "Random cat at HomeDepot.\n",
      "We started with the orange one, and got the white one so she wouldn’t be alone. Now they are friends forever.\n",
      "So much white, but so little dog\n",
      "Coco and brickle\n",
      "Sugar purring as he watches me. 😍\n",
      "Every orange needs a black and white friend\n",
      "My doggos relaxing after running all over the park! Lunatic (blonde), Isabel (black & tan), and Oliver (white & brown)\n",
      "Multiple pets owners…\n",
      "I foster with one of the largest pug rescues in the US, and this my first white pug! Meet Galileo!\n",
      "Nellie 🐈‍⬛, age 0-2\n",
      "My white cat 0 change Colors\n",
      "My \"son\", Jesus. He has his father's white chin.\n",
      "A ten second love story..aww to Oh no!\n",
      "Got to dress some up some shelter pups for Halloween this year in hopes of helping them get a home! They were all such sweethearts\n",
      "Doggy Cousins, they love each other!\n",
      "Casper the Great White shark, Neptune Islands, South Australia\n",
      "Snow White\n",
      "A finished miniature of a little white bat ready for Halloween :)\n",
      "His white coat is a bit of a mess, but he’s ready to answer your medication questions!\n",
      "White Deer\n",
      "My white shepherd, Athéna.\n",
      "on the last month of the summer vacation we got a new puppy i forgot the name of the breed but it's a fairly new one from what I know\n",
      "This is how theyve always slept. Photos are like 1.5 years apart. Ages added\n",
      "\"Regal tranquility: the captivating white owl's gaze.\" [OC]\n",
      "Trying to look gangster at the tulip festival with my fluffy white cloud...\n",
      "Found a raccoon with white spots under its eyes\n",
      "This is Tuni, named b/c of white marking that looks like a tuning fork. [OC]\n",
      "Best friends over 6 years. Just a couple hydro kitties, breaking into food containers, and napping. Repeat\n",
      "my white german shepherd puppy waiting me to wake up\n",
      "My guinea pigs (OC)\n",
      "White Merle Sproodle puppy 🐶 (OC)\n",
      "Blue eyes white dragon (OC)\n",
      "(OC) A rare white emu chick at the Timbavati Wildlife Park in Wisconsin Dells.\n",
      "Charlotte met chickens for the first time today.\n",
      "A freshly mown wet lawn versus a white dog 🤣\n",
      "Black and white ruffed lemur at the Timbavati Wildlife Park. (OC)\n",
      "A baby white Rhino practices running\n",
      "White-Eyed Parakeet Grooming Itself\n",
      "Cat that used to live under my porch just gave birth to 7 kittens last night (3 orange, 4 white)\n",
      "Trying to tan the white to match the rest....a never-ending battle.\n",
      "Floki has one (1) white whisker 😍\n",
      "[OC] Meet Kimba, our white Tiger 😊\n",
      "We adopted the Kikyo, the white dog (found in the street in Central Mexico), when she was a tiny puppy smaller than our first dog, Lata! She may be growing bigger constantly, but they are undoubtedly inseparable.\n",
      "My beautiful cat has recently had kittens, we are keeping one white and one ginger any suggestions on names would be great, i like luna but my partner isnt keen as its common (OC)\n",
      "A white raven\n",
      "Constantly showing off her pearly whites (OC)\n",
      "Red and white giant flying squirrel\n",
      "Cute little kittens playing and also mom shows up at the end checking in on her babies! 😻 (white with black spots) Jasper is the orange cat and loves to play too😂🥰\n",
      "John birthed a baby white deer [OC]\n",
      "Here’s the black and white foster kitty I posted to r/catswhoyell a couple of weeks ago. I’m happy to say he is no longer yelling and has made a several new friends since then ❤️\n",
      "Chopper usually growls and moves away when she gets near him. I had to capture this rare moment.\n",
      "Two white dogs\n",
      "Every sunflower seed I provide brings me closer to becoming a bonafide urban Snow White\n"
     ]
    }
   ],
   "source": [
    "for submission in submissions:\n",
    "    print(submission.title)"
   ]
  },
  {
   "cell_type": "code",
   "execution_count": 5,
   "metadata": {},
   "outputs": [
    {
     "name": "stdout",
     "output_type": "stream",
     "text": [
      "Requirement already satisfied: spacy in c:\\users\\rog\\anaconda3\\envs\\licenta\\lib\\site-packages (3.7.4)\n",
      "Requirement already satisfied: spacy-legacy<3.1.0,>=3.0.11 in c:\\users\\rog\\anaconda3\\envs\\licenta\\lib\\site-packages (from spacy) (3.0.12)\n",
      "Requirement already satisfied: spacy-loggers<2.0.0,>=1.0.0 in c:\\users\\rog\\anaconda3\\envs\\licenta\\lib\\site-packages (from spacy) (1.0.5)\n",
      "Requirement already satisfied: murmurhash<1.1.0,>=0.28.0 in c:\\users\\rog\\anaconda3\\envs\\licenta\\lib\\site-packages (from spacy) (1.0.10)\n",
      "Requirement already satisfied: cymem<2.1.0,>=2.0.2 in c:\\users\\rog\\anaconda3\\envs\\licenta\\lib\\site-packages (from spacy) (2.0.8)\n",
      "Requirement already satisfied: preshed<3.1.0,>=3.0.2 in c:\\users\\rog\\anaconda3\\envs\\licenta\\lib\\site-packages (from spacy) (3.0.9)\n",
      "Requirement already satisfied: thinc<8.3.0,>=8.2.2 in c:\\users\\rog\\anaconda3\\envs\\licenta\\lib\\site-packages (from spacy) (8.2.3)\n",
      "Requirement already satisfied: wasabi<1.2.0,>=0.9.1 in c:\\users\\rog\\anaconda3\\envs\\licenta\\lib\\site-packages (from spacy) (1.1.2)\n",
      "Requirement already satisfied: srsly<3.0.0,>=2.4.3 in c:\\users\\rog\\anaconda3\\envs\\licenta\\lib\\site-packages (from spacy) (2.4.8)\n",
      "Requirement already satisfied: catalogue<2.1.0,>=2.0.6 in c:\\users\\rog\\anaconda3\\envs\\licenta\\lib\\site-packages (from spacy) (2.0.10)\n",
      "Requirement already satisfied: weasel<0.4.0,>=0.1.0 in c:\\users\\rog\\anaconda3\\envs\\licenta\\lib\\site-packages (from spacy) (0.3.4)\n",
      "Requirement already satisfied: typer<0.10.0,>=0.3.0 in c:\\users\\rog\\anaconda3\\envs\\licenta\\lib\\site-packages (from spacy) (0.9.4)\n",
      "Requirement already satisfied: smart-open<7.0.0,>=5.2.1 in c:\\users\\rog\\anaconda3\\envs\\licenta\\lib\\site-packages (from spacy) (6.4.0)\n",
      "Requirement already satisfied: tqdm<5.0.0,>=4.38.0 in c:\\users\\rog\\anaconda3\\envs\\licenta\\lib\\site-packages (from spacy) (4.66.1)\n",
      "Requirement already satisfied: requests<3.0.0,>=2.13.0 in c:\\users\\rog\\appdata\\roaming\\python\\python310\\site-packages (from spacy) (2.31.0)\n",
      "Requirement already satisfied: pydantic!=1.8,!=1.8.1,<3.0.0,>=1.7.4 in c:\\users\\rog\\anaconda3\\envs\\licenta\\lib\\site-packages (from spacy) (2.6.4)\n",
      "Requirement already satisfied: jinja2 in c:\\users\\rog\\anaconda3\\envs\\licenta\\lib\\site-packages (from spacy) (3.1.3)\n",
      "Requirement already satisfied: setuptools in c:\\users\\rog\\anaconda3\\envs\\licenta\\lib\\site-packages (from spacy) (68.0.0)\n",
      "Requirement already satisfied: packaging>=20.0 in c:\\users\\rog\\anaconda3\\envs\\licenta\\lib\\site-packages (from spacy) (23.2)\n",
      "Requirement already satisfied: langcodes<4.0.0,>=3.2.0 in c:\\users\\rog\\anaconda3\\envs\\licenta\\lib\\site-packages (from spacy) (3.3.0)\n",
      "Requirement already satisfied: numpy>=1.19.0 in c:\\users\\rog\\anaconda3\\envs\\licenta\\lib\\site-packages (from spacy) (1.26.0)\n",
      "Requirement already satisfied: annotated-types>=0.4.0 in c:\\users\\rog\\anaconda3\\envs\\licenta\\lib\\site-packages (from pydantic!=1.8,!=1.8.1,<3.0.0,>=1.7.4->spacy) (0.6.0)\n",
      "Requirement already satisfied: pydantic-core==2.16.3 in c:\\users\\rog\\anaconda3\\envs\\licenta\\lib\\site-packages (from pydantic!=1.8,!=1.8.1,<3.0.0,>=1.7.4->spacy) (2.16.3)\n",
      "Requirement already satisfied: typing-extensions>=4.6.1 in c:\\users\\rog\\anaconda3\\envs\\licenta\\lib\\site-packages (from pydantic!=1.8,!=1.8.1,<3.0.0,>=1.7.4->spacy) (4.8.0)\n",
      "Requirement already satisfied: charset-normalizer<4,>=2 in c:\\users\\rog\\appdata\\roaming\\python\\python310\\site-packages (from requests<3.0.0,>=2.13.0->spacy) (3.3.2)\n",
      "Requirement already satisfied: idna<4,>=2.5 in c:\\users\\rog\\appdata\\roaming\\python\\python310\\site-packages (from requests<3.0.0,>=2.13.0->spacy) (3.4)\n",
      "Requirement already satisfied: urllib3<3,>=1.21.1 in c:\\users\\rog\\anaconda3\\envs\\licenta\\lib\\site-packages (from requests<3.0.0,>=2.13.0->spacy) (2.1.0)\n",
      "Requirement already satisfied: certifi>=2017.4.17 in c:\\users\\rog\\appdata\\roaming\\python\\python310\\site-packages (from requests<3.0.0,>=2.13.0->spacy) (2023.11.17)\n",
      "Requirement already satisfied: blis<0.8.0,>=0.7.8 in c:\\users\\rog\\anaconda3\\envs\\licenta\\lib\\site-packages (from thinc<8.3.0,>=8.2.2->spacy) (0.7.11)\n",
      "Requirement already satisfied: confection<1.0.0,>=0.0.1 in c:\\users\\rog\\anaconda3\\envs\\licenta\\lib\\site-packages (from thinc<8.3.0,>=8.2.2->spacy) (0.1.4)\n",
      "Requirement already satisfied: colorama in c:\\users\\rog\\anaconda3\\envs\\licenta\\lib\\site-packages (from tqdm<5.0.0,>=4.38.0->spacy) (0.4.6)\n",
      "Requirement already satisfied: click<9.0.0,>=7.1.1 in c:\\users\\rog\\anaconda3\\envs\\licenta\\lib\\site-packages (from typer<0.10.0,>=0.3.0->spacy) (8.1.7)\n",
      "Requirement already satisfied: cloudpathlib<0.17.0,>=0.7.0 in c:\\users\\rog\\anaconda3\\envs\\licenta\\lib\\site-packages (from weasel<0.4.0,>=0.1.0->spacy) (0.16.0)\n",
      "Requirement already satisfied: MarkupSafe>=2.0 in c:\\users\\rog\\anaconda3\\envs\\licenta\\lib\\site-packages (from jinja2->spacy) (2.1.5)\n"
     ]
    }
   ],
   "source": [
    "!pip install spacy"
   ]
  },
  {
   "cell_type": "code",
   "execution_count": 23,
   "metadata": {},
   "outputs": [
    {
     "name": "stdout",
     "output_type": "stream",
     "text": [
      "\u001b[38;5;2m✔ Download and installation successful\u001b[0m\n",
      "You can now load the package via spacy.load('en_core_web_sm')\n",
      "\u001b[38;5;3m⚠ Restart to reload dependencies\u001b[0m\n",
      "If you are in a Jupyter or Colab notebook, you may need to restart Python in\n",
      "order to load all the package's dependencies. You can do this by selecting the\n",
      "'Restart kernel' or 'Restart runtime' option.\n"
     ]
    }
   ],
   "source": [
    "import spacy.cli\n",
    "spacy.cli.download(\"en_core_web_sm\")"
   ]
  },
  {
   "cell_type": "code",
   "execution_count": 32,
   "metadata": {},
   "outputs": [
    {
     "name": "stdout",
     "output_type": "stream",
     "text": [
      "Collecting nltk\n",
      "  Downloading nltk-3.8.1-py3-none-any.whl.metadata (2.8 kB)\n",
      "Requirement already satisfied: click in c:\\users\\rog\\anaconda3\\envs\\licenta\\lib\\site-packages (from nltk) (8.1.7)\n",
      "Requirement already satisfied: joblib in c:\\users\\rog\\anaconda3\\envs\\licenta\\lib\\site-packages (from nltk) (1.3.2)\n",
      "Collecting regex>=2021.8.3 (from nltk)\n",
      "  Downloading regex-2023.12.25-cp310-cp310-win_amd64.whl.metadata (41 kB)\n",
      "     ---------------------------------------- 0.0/42.0 kB ? eta -:--:--\n",
      "     -------------------------------------- 42.0/42.0 kB 991.7 kB/s eta 0:00:00\n",
      "Requirement already satisfied: tqdm in c:\\users\\rog\\anaconda3\\envs\\licenta\\lib\\site-packages (from nltk) (4.66.1)\n",
      "Requirement already satisfied: colorama in c:\\users\\rog\\anaconda3\\envs\\licenta\\lib\\site-packages (from click->nltk) (0.4.6)\n",
      "Using cached nltk-3.8.1-py3-none-any.whl (1.5 MB)\n",
      "Downloading regex-2023.12.25-cp310-cp310-win_amd64.whl (269 kB)\n",
      "   ---------------------------------------- 0.0/269.5 kB ? eta -:--:--\n",
      "   ---------------------------------------- 269.5/269.5 kB 8.4 MB/s eta 0:00:00\n",
      "Installing collected packages: regex, nltk\n",
      "Successfully installed nltk-3.8.1 regex-2023.12.25\n"
     ]
    }
   ],
   "source": [
    "!pip install nltk"
   ]
  },
  {
   "cell_type": "code",
   "execution_count": 34,
   "metadata": {},
   "outputs": [
    {
     "name": "stderr",
     "output_type": "stream",
     "text": [
      "[nltk_data] Downloading package punkt to\n",
      "[nltk_data]     C:\\Users\\RoG\\AppData\\Roaming\\nltk_data...\n",
      "[nltk_data]   Package punkt is already up-to-date!\n",
      "[nltk_data] Downloading package averaged_perceptron_tagger to\n",
      "[nltk_data]     C:\\Users\\RoG\\AppData\\Roaming\\nltk_data...\n",
      "[nltk_data]   Package averaged_perceptron_tagger is already up-to-\n",
      "[nltk_data]       date!\n"
     ]
    }
   ],
   "source": [
    "import spacy\n",
    "import nltk\n",
    "nltk.download('punkt')\n",
    "nltk.download('averaged_perceptron_tagger')\n",
    "nlp = spacy.load(\"en_core_web_sm\")\n",
    "\n",
    "def is_name(word, pos=False):\n",
    "    if pos:\n",
    "        pos_tag = nltk.pos_tag([word])\n",
    "        #print(pos_tag)\n",
    "        return pos_tag[0][1] == 'NNP'\n",
    "    potential_name = nlp(word)\n",
    "    if potential_name.ents:\n",
    "        return potential_name.ents[0].label_ == 'PERSON'\n",
    "    else:\n",
    "        return False\n"
   ]
  },
  {
   "cell_type": "code",
   "execution_count": 49,
   "metadata": {},
   "outputs": [
    {
     "name": "stdout",
     "output_type": "stream",
     "text": [
      "Collecting num2words\n",
      "  Downloading num2words-0.5.13-py3-none-any.whl.metadata (12 kB)\n",
      "Collecting docopt>=0.6.2 (from num2words)\n",
      "  Downloading docopt-0.6.2.tar.gz (25 kB)\n",
      "  Preparing metadata (setup.py): started\n",
      "  Preparing metadata (setup.py): finished with status 'done'\n",
      "Downloading num2words-0.5.13-py3-none-any.whl (143 kB)\n",
      "   ---------------------------------------- 0.0/143.3 kB ? eta -:--:--\n",
      "   ---------------------------------------- 143.3/143.3 kB 2.8 MB/s eta 0:00:00\n",
      "Building wheels for collected packages: docopt\n",
      "  Building wheel for docopt (setup.py): started\n",
      "  Building wheel for docopt (setup.py): finished with status 'done'\n",
      "  Created wheel for docopt: filename=docopt-0.6.2-py2.py3-none-any.whl size=13773 sha256=07893f7929daa891d95cfc62e011892d7f2073beac0335f0f125d0e74b87580b\n",
      "  Stored in directory: c:\\users\\rog\\appdata\\local\\pip\\cache\\wheels\\fc\\ab\\d4\\5da2067ac95b36618c629a5f93f809425700506f72c9732fac\n",
      "Successfully built docopt\n",
      "Installing collected packages: docopt, num2words\n",
      "Successfully installed docopt-0.6.2 num2words-0.5.13\n"
     ]
    }
   ],
   "source": [
    "!pip install num2words"
   ]
  },
  {
   "cell_type": "code",
   "execution_count": 57,
   "metadata": {},
   "outputs": [
    {
     "name": "stderr",
     "output_type": "stream",
     "text": [
      "[nltk_data] Downloading package stopwords to\n",
      "[nltk_data]     C:\\Users\\RoG\\AppData\\Roaming\\nltk_data...\n",
      "[nltk_data]   Package stopwords is already up-to-date!\n",
      "[nltk_data] Downloading package wordnet to\n",
      "[nltk_data]     C:\\Users\\RoG\\AppData\\Roaming\\nltk_data...\n"
     ]
    },
    {
     "data": {
      "text/plain": [
       "True"
      ]
     },
     "execution_count": 57,
     "metadata": {},
     "output_type": "execute_result"
    }
   ],
   "source": [
    "nltk.download('stopwords')\n",
    "nltk.download('wordnet')"
   ]
  },
  {
   "cell_type": "code",
   "execution_count": 4,
   "metadata": {},
   "outputs": [
    {
     "name": "stderr",
     "output_type": "stream",
     "text": [
      "[nltk_data] Downloading package punkt to\n",
      "[nltk_data]     C:\\Users\\RoG\\AppData\\Roaming\\nltk_data...\n",
      "[nltk_data]   Package punkt is already up-to-date!\n",
      "[nltk_data] Downloading package wordnet to\n",
      "[nltk_data]     C:\\Users\\RoG\\AppData\\Roaming\\nltk_data...\n",
      "[nltk_data]   Package wordnet is already up-to-date!\n",
      "[nltk_data] Downloading package stopwords to\n",
      "[nltk_data]     C:\\Users\\RoG\\AppData\\Roaming\\nltk_data...\n",
      "[nltk_data]   Package stopwords is already up-to-date!\n"
     ]
    }
   ],
   "source": [
    "import re\n",
    "import nltk\n",
    "from num2words import num2words\n",
    "from nltk.corpus import stopwords\n",
    "from nltk.stem import WordNetLemmatizer\n",
    "nltk.download('punkt')\n",
    "nltk.download('wordnet')\n",
    "nltk.download('stopwords')\n",
    "\n",
    "def preprocess_text(text):\n",
    "    # Convert numbers to words\n",
    "    text = re.sub(r'\\b\\d+\\b', lambda x: num2words(x.group()), text)\n",
    "\n",
    "    # Remove URLs\n",
    "    text = re.sub(r'http\\S+|www\\S+|@\\S+|#\\S+', '', text)\n",
    "\n",
    "    # Tokenize while preserving punctuation\n",
    "    tokens = nltk.word_tokenize(text)\n",
    "\n",
    "    # Optionally, remove stopwords and lemmatize\n",
    "    stop_words = set(stopwords.words('english'))\n",
    "    lemmatizer = WordNetLemmatizer()\n",
    "    processed_tokens = []\n",
    "    for word in tokens:\n",
    "        # Check if the token is a punctuation or a useful word\n",
    "        if word.isalpha():\n",
    "            if word not in stop_words:\n",
    "                # Lemmatize the word\n",
    "                word = lemmatizer.lemmatize(word)\n",
    "                processed_tokens.append(word)\n",
    "        else:\n",
    "            # Directly append punctuations and other non-alphabetic tokens\n",
    "            processed_tokens.append(word)\n",
    "\n",
    "    # Reconstruct the text\n",
    "    preprocessed_text = ' '.join(processed_tokens)\n",
    "\n",
    "    return preprocessed_text\n"
   ]
  },
  {
   "cell_type": "code",
   "execution_count": 31,
   "metadata": {},
   "outputs": [],
   "source": [
    "import praw\n",
    "from collections import Counter\n",
    "\n",
    "def find_popular_pet_names(reddit, pet_color, pet_type='pet', limit=100, pos=True):\n",
    "    subreddit = reddit.subreddit(\"aww\")\n",
    "    #search_query = f\"{pet_color} {pet_type}\" if pet_type != 'pet' else pet_color\n",
    "    search_query = f\"{pet_color}\"\n",
    "    names_counter = Counter()\n",
    "\n",
    "    for submission in subreddit.search(search_query, limit=limit):\n",
    "        title = submission.title\n",
    "        title = preprocess_text(title)\n",
    "        words = title.split()\n",
    "        for word in words:\n",
    "            if is_name(word, pos=pos):\n",
    "                names_counter[word] += 1\n",
    "\n",
    "    return names_counter"
   ]
  },
  {
   "cell_type": "code",
   "execution_count": 35,
   "metadata": {},
   "outputs": [],
   "source": [
    "subm = find_popular_pet_names(reddit, 'white', limit=100)"
   ]
  },
  {
   "cell_type": "code",
   "execution_count": 26,
   "metadata": {},
   "outputs": [
    {
     "name": "stdout",
     "output_type": "stream",
     "text": [
      "<built-in method title of str object at 0x000001C986D0B9B0>\n",
      "<built-in method title of str object at 0x000001C990ABE530>\n",
      "<built-in method title of str object at 0x000001C990ADEA30>\n",
      "<built-in method title of str object at 0x000001C990B15030>\n",
      "<built-in method title of str object at 0x000001C990B1E7F0>\n",
      "<built-in method title of str object at 0x000001C98C055330>\n",
      "<built-in method title of str object at 0x000001C990AFA830>\n",
      "<built-in method title of str object at 0x000001C98FE62830>\n",
      "<built-in method title of str object at 0x000001C98C02B3F0>\n",
      "<built-in method title of str object at 0x000001C98FE63070>\n"
     ]
    }
   ],
   "source": [
    "for submission in subm:\n",
    "    print(submission.title)"
   ]
  },
  {
   "cell_type": "code",
   "execution_count": 53,
   "metadata": {},
   "outputs": [],
   "source": [
    "popular_names = find_popular_pet_names(reddit, 'brown', pet_type=\"pet\", limit=100, pos=False)"
   ]
  },
  {
   "cell_type": "code",
   "execution_count": 54,
   "metadata": {},
   "outputs": [
    {
     "name": "stdout",
     "output_type": "stream",
     "text": [
      "Charlie: 4\n",
      "tabby: 2\n",
      "teddy: 2\n",
      "wolf: 1\n",
      "Daisy: 1\n",
      "Doritos: 1\n",
      "Oliver: 1\n",
      "Chubby: 1\n",
      "Cristos: 1\n",
      "Valentine: 1\n"
     ]
    }
   ],
   "source": [
    "# remove OC\n",
    "popular_names.pop(\"OC\", None)\n",
    "\n",
    "for name, count in popular_names.most_common(10):\n",
    "    print(f\"{name}: {count}\")"
   ]
  },
  {
   "cell_type": "code",
   "execution_count": 50,
   "metadata": {},
   "outputs": [],
   "source": [
    "# pos true\n",
    "\n",
    "popular_names_pos = find_popular_pet_names(reddit, 'black', pet_type=\"pet\", limit=100, pos=True)"
   ]
  },
  {
   "cell_type": "code",
   "execution_count": 52,
   "metadata": {},
   "outputs": [
    {
     "name": "stdout",
     "output_type": "stream",
     "text": [
      "White: 2\n",
      "Friday: 2\n",
      "Met: 1\n",
      "Winnie: 1\n",
      "Pearl: 1\n",
      "Jaguar: 1\n",
      "Kitty: 1\n",
      "New: 1\n",
      "Mexico: 1\n"
     ]
    }
   ],
   "source": [
    "# remove OC\n",
    "popular_names_pos.pop(\"OC\", None)\n",
    "\n",
    "for name, count in popular_names_pos.most_common(10):\n",
    "    print(f\"{name}: {count}\")"
   ]
  },
  {
   "cell_type": "code",
   "execution_count": 30,
   "metadata": {},
   "outputs": [
    {
     "name": "stdout",
     "output_type": "stream",
     "text": [
      "[('House', 'NNP')]\n",
      "True\n"
     ]
    }
   ],
   "source": [
    "test_word = \"House\"\n",
    "print(is_name(test_word, pos=True))"
   ]
  }
 ],
 "metadata": {
  "kernelspec": {
   "display_name": "licenta",
   "language": "python",
   "name": "python3"
  },
  "language_info": {
   "codemirror_mode": {
    "name": "ipython",
    "version": 3
   },
   "file_extension": ".py",
   "mimetype": "text/x-python",
   "name": "python",
   "nbconvert_exporter": "python",
   "pygments_lexer": "ipython3",
   "version": "3.10.13"
  }
 },
 "nbformat": 4,
 "nbformat_minor": 2
}
